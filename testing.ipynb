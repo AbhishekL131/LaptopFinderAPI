{
 "cells": [
  {
   "cell_type": "code",
   "execution_count": 1,
   "metadata": {},
   "outputs": [],
   "source": [
    "from all_keys import groq_api_key"
   ]
  },
  {
   "cell_type": "code",
   "execution_count": 3,
   "metadata": {},
   "outputs": [],
   "source": [
    "from langchain_groq import ChatGroq"
   ]
  },
  {
   "cell_type": "code",
   "execution_count": 4,
   "metadata": {},
   "outputs": [],
   "source": [
    "llm = ChatGroq(\n",
    "    model=\"llama-3.3-70b-versatile\",\n",
    "    api_key = groq_api_key,\n",
    "    temperature=0.6\n",
    ")"
   ]
  },
  {
   "cell_type": "code",
   "execution_count": 17,
   "metadata": {},
   "outputs": [],
   "source": [
    "from langchain.prompts import PromptTemplate\n",
    "\n",
    "prompt_laptop = PromptTemplate(\n",
    "    input_variables = ['company','budget'],\n",
    "    template = ''' \n",
    "    - suggest me Laptop of {company} within the price range of {budget}  .\n",
    "    ### INSTRUCTIONS\n",
    "    - no preamble\n",
    "    - list should show all the features of that laptop\n",
    "    - price on 2 diff e-commerce platforms\n",
    "'''\n",
    ")"
   ]
  },
  {
   "cell_type": "code",
   "execution_count": 18,
   "metadata": {},
   "outputs": [
    {
     "data": {
      "text/plain": [
       "' \\n    - suggest me Laptop of Lenovo within the price range of 50000-100000  .\\n    ### INSTRUCTIONS\\n    - no preamble\\n    - list should show all the features of that laptop\\n    - price on 2 diff e-commerce platforms\\n'"
      ]
     },
     "execution_count": 18,
     "metadata": {},
     "output_type": "execute_result"
    }
   ],
   "source": [
    "prompt_laptop.format(company='Lenovo',budget=\"50000-100000\")"
   ]
  },
  {
   "cell_type": "code",
   "execution_count": 19,
   "metadata": {},
   "outputs": [],
   "source": [
    "from langchain.chains import LLMChain"
   ]
  },
  {
   "cell_type": "code",
   "execution_count": 20,
   "metadata": {},
   "outputs": [],
   "source": [
    "chain = LLMChain(llm=llm,prompt=prompt_laptop)"
   ]
  },
  {
   "cell_type": "code",
   "execution_count": 21,
   "metadata": {},
   "outputs": [],
   "source": [
    "response = chain.run(company=\"Lenovo\",budget=\"50000-100000\")"
   ]
  },
  {
   "cell_type": "code",
   "execution_count": null,
   "metadata": {},
   "outputs": [
    {
     "name": "stdout",
     "output_type": "stream",
     "text": [
      "1. **Lenovo IdeaPad Slim 3**\n",
      "   - Processor: 11th Gen Intel Core i3-1115G4\n",
      "   - RAM: 8GB DDR4\n",
      "   - Storage: 256GB SSD\n",
      "   - Display: 15.6\" FHD (1920x1080)\n",
      "   - Graphics: Intel UHD Graphics\n",
      "   - Battery Life: Up to 8 hours\n",
      "   - Weight: 1.7kg\n",
      "   - Price:\n",
      "     * Flipkart: ₹54,990\n",
      "     * Amazon: ₹56,490\n",
      "\n",
      "2. **Lenovo IdeaPad Slim 5**\n",
      "   - Processor: 11th Gen Intel Core i5-1135G7\n",
      "   - RAM: 8GB DDR4\n",
      "   - Storage: 512GB SSD\n",
      "   - Display: 15.6\" FHD (1920x1080)\n",
      "   - Graphics: Intel Iris Xe Graphics\n",
      "   - Battery Life: Up to 11 hours\n",
      "   - Weight: 1.79kg\n",
      "   - Price:\n",
      "     * Flipkart: ₹73,990\n",
      "     * Amazon: ₹75,990\n",
      "\n",
      "3. **Lenovo Legion Y540**\n",
      "   - Processor: AMD Ryzen 5 5600H\n",
      "   - RAM: 8GB DDR4\n",
      "   - Storage: 1TB HDD + 256GB SSD\n",
      "   - Display: 15.6\" FHD (1920x1080) 120Hz\n",
      "   - Graphics: NVIDIA GeForce GTX 1650 4GB\n",
      "   - Battery Life: Up to 5 hours\n",
      "   - Weight: 2.3kg\n",
      "   - Price:\n",
      "     * Flipkart: ₹64,990\n",
      "     * Amazon: ₹66,990\n",
      "\n",
      "4. **Lenovo ThinkPad E14**\n",
      "   - Processor: 11th Gen Intel Core i5-1135G7\n",
      "   - RAM: 8GB DDR4\n",
      "   - Storage: 512GB SSD\n",
      "   - Display: 14\" FHD (1920x1080)\n",
      "   - Graphics: Intel Iris Xe Graphics\n",
      "   - Battery Life: Up to 13 hours\n",
      "   - Weight: 1.59kg\n",
      "   - Price:\n",
      "     * Flipkart: ₹84,990\n",
      "     * Amazon: ₹86,990\n",
      "\n",
      "5. **Lenovo Yoga 7i**\n",
      "   - Processor: 11th Gen Intel Core i5-1135G7\n",
      "   - RAM: 8GB DDR4\n",
      "   - Storage: 512GB SSD\n",
      "   - Display: 14\" FHD (1920x1080) Touchscreen\n",
      "   - Graphics: Intel Iris Xe Graphics\n",
      "   - Battery Life: Up to 16 hours\n",
      "   - Weight: 1.55kg\n",
      "   - Price:\n",
      "     * Flipkart: ₹94,990\n",
      "     * Amazon: ₹96,990\n"
     ]
    }
   ],
   "source": [
    "print(response)"
   ]
  }
 ],
 "metadata": {
  "kernelspec": {
   "display_name": "GENAI",
   "language": "python",
   "name": "python3"
  },
  "language_info": {
   "codemirror_mode": {
    "name": "ipython",
    "version": 3
   },
   "file_extension": ".py",
   "mimetype": "text/x-python",
   "name": "python",
   "nbconvert_exporter": "python",
   "pygments_lexer": "ipython3",
   "version": "3.11.11"
  }
 },
 "nbformat": 4,
 "nbformat_minor": 2
}
